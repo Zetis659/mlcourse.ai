{
 "cells": [
  {
   "cell_type": "code",
   "execution_count": 2,
   "metadata": {},
   "outputs": [],
   "source": [
    "import numpy as np\n",
    "import pandas as pd\n",
    "import seaborn as sns\n",
    "from matplotlib import pyplot as plt\n",
    "\n",
    "%matplotlib inline"
   ]
  },
  {
   "cell_type": "code",
   "execution_count": 3,
   "metadata": {},
   "outputs": [],
   "source": [
    "poll_data = pd.read_csv(\n",
    "    \"../../data/mlcourse_open_first_survey_parsed.csv\", index_col=\"id\"\n",
    ")"
   ]
  },
  {
   "cell_type": "code",
   "execution_count": 4,
   "metadata": {},
   "outputs": [
    {
     "data": {
      "text/plain": "                       Timestamp  \\\nid                                 \n0   2016/12/05 10:39:59 am GMT+3   \n1   2016/12/05 10:44:27 am GMT+3   \n2   2016/12/05 10:47:07 am GMT+3   \n3   2016/12/05 10:47:22 am GMT+3   \n5   2016/12/05 10:58:34 am GMT+3   \n6   2016/12/05 11:02:36 am GMT+3   \n7   2016/12/05 11:06:42 am GMT+3   \n8   2016/12/05 11:10:08 am GMT+3   \n9   2016/12/05 11:12:54 am GMT+3   \n10  2016/12/05 11:14:52 am GMT+3   \n\n                           Представьтесь в 2-3 фразах  \\\nid                                                      \n0                                    крутой Developer   \n1   Разработчик Navision. Изучаю тему DS для возмо...   \n2   Я Software Engeneer разработчик, активно интер...   \n3   Семилетний инженер. Специализируюсь в компьюте...   \n5                          программист. pl/sql python   \n6                                    студен CSC в СПБ   \n7   Образование в области ИБ. Python/C++ разработч...   \n8   Учусь в маге, параллельно пытаюсь самостоятель...   \n9                              R&D в уютном стартапе    \n10                                         Hello ODS!   \n\n   Работали ли Вы с Jupyter notebooks?  \\\nid                                       \n0                                   Да   \n1                                   Да   \n2                                   Да   \n3                                   Да   \n5                                   Да   \n6                                   Да   \n7                                   Да   \n8                                   Да   \n9                                   Да   \n10                                  Да   \n\n                               Что Вы ждете от курса?  \\\nid                                                      \n0   Ребята, вижу ваш настрой, уверен курс будет ин...   \n1   Практики, подкрепленной теорией. Хочется упоря...   \n2     Побольше практики на реальных данных (задачах).   \n3        Глубокого разбора алгоритмов и инструментов.   \n5                                  Упорядочить знания   \n6                          Веселого веселья с данными   \n7                                 Практики и хардкора   \n8   Укрепить свои знания в тех местах, где я не по...   \n9   неочевидных трюков в привычных задачах, воспол...   \n10                                     new experience   \n\n   Потом мы прямо этот же набор данных поанализируем с Pandas. Так что какой Ваш любимый вид спорта?  \\\nid                                                                                                     \n0                                           Starcraft                                                  \n1                                                 NaN                                                  \n2                                          basketball                                                  \n3                                                 NaN                                                  \n5                                              футбол                                                  \n6                                              Теннис                                                  \n7                                                 MMA                                                  \n8                                              Футбол                                                  \n9                                                 NaN                                                  \n10                                        starcraft 2                                                  \n\n   Ладно, посерьезней: согласны ли Вы на обработку персональных данных?  \\\nid                                                                        \n0                                                  Да                     \n1                                                  Да                     \n2                                                  Да                     \n3                                                  Да                     \n5                                                  Да                     \n6                                                  Да                     \n7                                                  Да                     \n8                                                  Да                     \n9                                                  Да                     \n10                                                 Да                     \n\n    Какие оцениваете свой уровень математической подготовки? (матан, линал, теорвер)  \\\nid                                                                                     \n0                                                   4                                  \n1                                                   1                                  \n2                                                   3                                  \n3                                                   3                                  \n5                                                   3                                  \n6                                                   3                                  \n7                                                   3                                  \n8                                                   4                                  \n9                                                   2                                  \n10                                                  1                                  \n\n   Чему равна дисперсия равномерного на [0,6] распределения?  \\\nid                                                             \n0                                                   3          \n1                                                   3          \n2                                                   3          \n3                                                 0.5          \n5                                                   3          \n6                                                   3          \n7                                                   3          \n8                                                   3          \n9                                                   3          \n10                                                  3          \n\n   Найдите минимум функции 3x^4-8x^3+6x^2-12 на отрезке [-3,3]  \\\nid                                                               \n0                                                 -12            \n1                                                 NaN            \n2                                                 NaN            \n3                                                 -12            \n5                                                 -12            \n6                                                 -12            \n7                                                 -12            \n8                                                 -12            \n9                                                 -12            \n10                                                -12            \n\n    Сколько параметров у нормального распределения?  \\\nid                                                    \n0                                               2.0   \n1                                               2.0   \n2                                               2.0   \n3                                               2.0   \n5                                               2.0   \n6                                               2.0   \n7                                               2.0   \n8                                               2.0   \n9                                               2.0   \n10                                              2.0   \n\n   Сможете написать на Python генератор чисел Фибоначчи?  \\\nid                                                         \n0                                                  Да      \n1                                     Да, но фиговый.      \n2                                                  Да      \n3                                                  Да      \n5                                                  Да      \n6                                                  Да      \n7                                                  Да      \n8                                                  Да      \n9                                                  Да      \n10                                                 Да      \n\n   Хорошо, а готовы к началу курса (6 сентября 2017) освоить азы Python? На уровне Code Academy, DataCamp или github.com/Yorko/python_intro  \\\nid                                                                                                                                            \n0                                                  Да                                                                                         \n1                                                  Да                                                                                         \n2                                                  Да                                                                                         \n3                                                  Да                                                                                         \n5                                            уже знаю                                                                                         \n6                                                  Да                                                                                         \n7                                                  Да                                                                                         \n8                                                  Да                                                                                         \n9                                                  Да                                                                                         \n10                                                 Да                                                                                         \n\n        Оцените свой уровень владения GitHub  \\\nid                                             \n0                                       Проф   \n1                     Могу скачать материалы   \n2                                       Проф   \n3   Пользуюсь ветками, могу что-то смерджить   \n5   Пользуюсь ветками, могу что-то смерджить   \n6   Пользуюсь ветками, могу что-то смерджить   \n7   Пользуюсь ветками, могу что-то смерджить   \n8                     Могу скачать материалы   \n9   Пользуюсь ветками, могу что-то смерджить   \n10             Могу редактировать свою копию   \n\n   Посоветуйте хороший фильм в стиле \"Игра в имитацию\" :)  \nid                                                         \n0   Прочитай книгу Лема \"Голос Неба\", очень много ...      \n1                                                 NaN      \n2                                                 NaN      \n3                                      Король говорит      \n5                                                 NaN      \n6                                                 NaN      \n7                 Игры разума, Игра, Престиж, Экзамен      \n8                                         Игры разума      \n9   \"игра в имитацию\" - говно, лучше перечитать \"к...      \n10  Чувственная математика, Екатерины Еременко (2012)      ",
      "text/html": "<div>\n<style scoped>\n    .dataframe tbody tr th:only-of-type {\n        vertical-align: middle;\n    }\n\n    .dataframe tbody tr th {\n        vertical-align: top;\n    }\n\n    .dataframe thead th {\n        text-align: right;\n    }\n</style>\n<table border=\"1\" class=\"dataframe\">\n  <thead>\n    <tr style=\"text-align: right;\">\n      <th></th>\n      <th>Timestamp</th>\n      <th>Представьтесь в 2-3 фразах</th>\n      <th>Работали ли Вы с Jupyter notebooks?</th>\n      <th>Что Вы ждете от курса?</th>\n      <th>Потом мы прямо этот же набор данных поанализируем с Pandas. Так что какой Ваш любимый вид спорта?</th>\n      <th>Ладно, посерьезней: согласны ли Вы на обработку персональных данных?</th>\n      <th>Какие оцениваете свой уровень математической подготовки? (матан, линал, теорвер)</th>\n      <th>Чему равна дисперсия равномерного на [0,6] распределения?</th>\n      <th>Найдите минимум функции 3x^4-8x^3+6x^2-12 на отрезке [-3,3]</th>\n      <th>Сколько параметров у нормального распределения?</th>\n      <th>Сможете написать на Python генератор чисел Фибоначчи?</th>\n      <th>Хорошо, а готовы к началу курса (6 сентября 2017) освоить азы Python? На уровне Code Academy, DataCamp или github.com/Yorko/python_intro</th>\n      <th>Оцените свой уровень владения GitHub</th>\n      <th>Посоветуйте хороший фильм в стиле \"Игра в имитацию\" :)</th>\n    </tr>\n    <tr>\n      <th>id</th>\n      <th></th>\n      <th></th>\n      <th></th>\n      <th></th>\n      <th></th>\n      <th></th>\n      <th></th>\n      <th></th>\n      <th></th>\n      <th></th>\n      <th></th>\n      <th></th>\n      <th></th>\n      <th></th>\n    </tr>\n  </thead>\n  <tbody>\n    <tr>\n      <th>0</th>\n      <td>2016/12/05 10:39:59 am GMT+3</td>\n      <td>крутой Developer</td>\n      <td>Да</td>\n      <td>Ребята, вижу ваш настрой, уверен курс будет ин...</td>\n      <td>Starcraft</td>\n      <td>Да</td>\n      <td>4</td>\n      <td>3</td>\n      <td>-12</td>\n      <td>2.0</td>\n      <td>Да</td>\n      <td>Да</td>\n      <td>Проф</td>\n      <td>Прочитай книгу Лема \"Голос Неба\", очень много ...</td>\n    </tr>\n    <tr>\n      <th>1</th>\n      <td>2016/12/05 10:44:27 am GMT+3</td>\n      <td>Разработчик Navision. Изучаю тему DS для возмо...</td>\n      <td>Да</td>\n      <td>Практики, подкрепленной теорией. Хочется упоря...</td>\n      <td>NaN</td>\n      <td>Да</td>\n      <td>1</td>\n      <td>3</td>\n      <td>NaN</td>\n      <td>2.0</td>\n      <td>Да, но фиговый.</td>\n      <td>Да</td>\n      <td>Могу скачать материалы</td>\n      <td>NaN</td>\n    </tr>\n    <tr>\n      <th>2</th>\n      <td>2016/12/05 10:47:07 am GMT+3</td>\n      <td>Я Software Engeneer разработчик, активно интер...</td>\n      <td>Да</td>\n      <td>Побольше практики на реальных данных (задачах).</td>\n      <td>basketball</td>\n      <td>Да</td>\n      <td>3</td>\n      <td>3</td>\n      <td>NaN</td>\n      <td>2.0</td>\n      <td>Да</td>\n      <td>Да</td>\n      <td>Проф</td>\n      <td>NaN</td>\n    </tr>\n    <tr>\n      <th>3</th>\n      <td>2016/12/05 10:47:22 am GMT+3</td>\n      <td>Семилетний инженер. Специализируюсь в компьюте...</td>\n      <td>Да</td>\n      <td>Глубокого разбора алгоритмов и инструментов.</td>\n      <td>NaN</td>\n      <td>Да</td>\n      <td>3</td>\n      <td>0.5</td>\n      <td>-12</td>\n      <td>2.0</td>\n      <td>Да</td>\n      <td>Да</td>\n      <td>Пользуюсь ветками, могу что-то смерджить</td>\n      <td>Король говорит</td>\n    </tr>\n    <tr>\n      <th>5</th>\n      <td>2016/12/05 10:58:34 am GMT+3</td>\n      <td>программист. pl/sql python</td>\n      <td>Да</td>\n      <td>Упорядочить знания</td>\n      <td>футбол</td>\n      <td>Да</td>\n      <td>3</td>\n      <td>3</td>\n      <td>-12</td>\n      <td>2.0</td>\n      <td>Да</td>\n      <td>уже знаю</td>\n      <td>Пользуюсь ветками, могу что-то смерджить</td>\n      <td>NaN</td>\n    </tr>\n    <tr>\n      <th>6</th>\n      <td>2016/12/05 11:02:36 am GMT+3</td>\n      <td>студен CSC в СПБ</td>\n      <td>Да</td>\n      <td>Веселого веселья с данными</td>\n      <td>Теннис</td>\n      <td>Да</td>\n      <td>3</td>\n      <td>3</td>\n      <td>-12</td>\n      <td>2.0</td>\n      <td>Да</td>\n      <td>Да</td>\n      <td>Пользуюсь ветками, могу что-то смерджить</td>\n      <td>NaN</td>\n    </tr>\n    <tr>\n      <th>7</th>\n      <td>2016/12/05 11:06:42 am GMT+3</td>\n      <td>Образование в области ИБ. Python/C++ разработч...</td>\n      <td>Да</td>\n      <td>Практики и хардкора</td>\n      <td>MMA</td>\n      <td>Да</td>\n      <td>3</td>\n      <td>3</td>\n      <td>-12</td>\n      <td>2.0</td>\n      <td>Да</td>\n      <td>Да</td>\n      <td>Пользуюсь ветками, могу что-то смерджить</td>\n      <td>Игры разума, Игра, Престиж, Экзамен</td>\n    </tr>\n    <tr>\n      <th>8</th>\n      <td>2016/12/05 11:10:08 am GMT+3</td>\n      <td>Учусь в маге, параллельно пытаюсь самостоятель...</td>\n      <td>Да</td>\n      <td>Укрепить свои знания в тех местах, где я не по...</td>\n      <td>Футбол</td>\n      <td>Да</td>\n      <td>4</td>\n      <td>3</td>\n      <td>-12</td>\n      <td>2.0</td>\n      <td>Да</td>\n      <td>Да</td>\n      <td>Могу скачать материалы</td>\n      <td>Игры разума</td>\n    </tr>\n    <tr>\n      <th>9</th>\n      <td>2016/12/05 11:12:54 am GMT+3</td>\n      <td>R&amp;D в уютном стартапе</td>\n      <td>Да</td>\n      <td>неочевидных трюков в привычных задачах, воспол...</td>\n      <td>NaN</td>\n      <td>Да</td>\n      <td>2</td>\n      <td>3</td>\n      <td>-12</td>\n      <td>2.0</td>\n      <td>Да</td>\n      <td>Да</td>\n      <td>Пользуюсь ветками, могу что-то смерджить</td>\n      <td>\"игра в имитацию\" - говно, лучше перечитать \"к...</td>\n    </tr>\n    <tr>\n      <th>10</th>\n      <td>2016/12/05 11:14:52 am GMT+3</td>\n      <td>Hello ODS!</td>\n      <td>Да</td>\n      <td>new experience</td>\n      <td>starcraft 2</td>\n      <td>Да</td>\n      <td>1</td>\n      <td>3</td>\n      <td>-12</td>\n      <td>2.0</td>\n      <td>Да</td>\n      <td>Да</td>\n      <td>Могу редактировать свою копию</td>\n      <td>Чувственная математика, Екатерины Еременко (2012)</td>\n    </tr>\n  </tbody>\n</table>\n</div>"
     },
     "execution_count": 4,
     "metadata": {},
     "output_type": "execute_result"
    }
   ],
   "source": [
    "poll_data.head(10)"
   ]
  },
  {
   "cell_type": "code",
   "execution_count": 5,
   "metadata": {},
   "outputs": [
    {
     "name": "stdout",
     "output_type": "stream",
     "text": [
      "<class 'pandas.core.frame.DataFrame'>\n",
      "Int64Index: 2944 entries, 0 to 3215\n",
      "Data columns (total 14 columns):\n",
      " #   Column                                                                                                                                    Non-Null Count  Dtype  \n",
      "---  ------                                                                                                                                    --------------  -----  \n",
      " 0   Timestamp                                                                                                                                 2944 non-null   object \n",
      " 1   Представьтесь в 2-3 фразах                                                                                                                2944 non-null   object \n",
      " 2   Работали ли Вы с Jupyter notebooks?                                                                                                       2931 non-null   object \n",
      " 3   Что Вы ждете от курса?                                                                                                                    2944 non-null   object \n",
      " 4   Потом мы прямо этот же набор данных поанализируем с Pandas. Так что какой Ваш любимый вид спорта?                                         2638 non-null   object \n",
      " 5   Ладно, посерьезней: согласны ли Вы на обработку персональных данных?                                                                      2944 non-null   object \n",
      " 6   Какие оцениваете свой уровень математической подготовки? (матан, линал, теорвер)                                                          2944 non-null   int64  \n",
      " 7   Чему равна дисперсия равномерного на [0,6] распределения?                                                                                 2689 non-null   object \n",
      " 8   Найдите минимум функции 3x^4-8x^3+6x^2-12 на отрезке [-3,3]                                                                               2623 non-null   object \n",
      " 9   Сколько параметров у нормального распределения?                                                                                           2725 non-null   float64\n",
      " 10  Сможете написать на Python генератор чисел Фибоначчи?                                                                                     2944 non-null   object \n",
      " 11  Хорошо, а готовы к началу курса (6 сентября 2017) освоить азы Python? На уровне Code Academy, DataCamp или github.com/Yorko/python_intro  2944 non-null   object \n",
      " 12  Оцените свой уровень владения GitHub                                                                                                      2910 non-null   object \n",
      " 13  Посоветуйте хороший фильм в стиле \"Игра в имитацию\" :)                                                                                    2086 non-null   object \n",
      "dtypes: float64(1), int64(1), object(12)\n",
      "memory usage: 345.0+ KB\n"
     ]
    }
   ],
   "source": [
    "poll_data.info()"
   ]
  },
  {
   "cell_type": "code",
   "execution_count": 6,
   "metadata": {},
   "outputs": [
    {
     "data": {
      "text/plain": "(2944, 14)"
     },
     "execution_count": 6,
     "metadata": {},
     "output_type": "execute_result"
    }
   ],
   "source": [
    "poll_data.shape"
   ]
  },
  {
   "cell_type": "markdown",
   "metadata": {},
   "source": [
    "**Переименуем признаки.**"
   ]
  },
  {
   "cell_type": "code",
   "execution_count": 7,
   "metadata": {},
   "outputs": [],
   "source": [
    "rename_dic = dict(\n",
    "    zip(\n",
    "        poll_data.columns,\n",
    "        [\n",
    "            \"time\",\n",
    "            \"intro\",\n",
    "            \"jupyter\",\n",
    "            \"expect\",\n",
    "            \"sport\",\n",
    "            \"personal\",\n",
    "            \"math_level\",\n",
    "            \"quest1\",\n",
    "            \"quest2\",\n",
    "            \"quest3\",\n",
    "            \"fib_gen\",\n",
    "            \"python\",\n",
    "            \"github\",\n",
    "            \"movie\",\n",
    "        ],\n",
    "    )\n",
    ")"
   ]
  },
  {
   "cell_type": "code",
   "execution_count": 8,
   "metadata": {},
   "outputs": [],
   "source": [
    "poll_data.rename(columns=rename_dic, inplace=True)"
   ]
  },
  {
   "cell_type": "code",
   "execution_count": 9,
   "metadata": {},
   "outputs": [
    {
     "data": {
      "text/plain": "                            time  \\\nid                                 \n0   2016/12/05 10:39:59 am GMT+3   \n1   2016/12/05 10:44:27 am GMT+3   \n\n                                                intro jupyter  \\\nid                                                              \n0                                    крутой Developer      Да   \n1   Разработчик Navision. Изучаю тему DS для возмо...      Да   \n\n                                               expect      sport personal  \\\nid                                                                          \n0   Ребята, вижу ваш настрой, уверен курс будет ин...  Starcraft       Да   \n1   Практики, подкрепленной теорией. Хочется упоря...        NaN       Да   \n\n    math_level quest1 quest2  quest3          fib_gen python  \\\nid                                                             \n0            4      3    -12     2.0               Да     Да   \n1            1      3    NaN     2.0  Да, но фиговый.     Да   \n\n                    github                                              movie  \nid                                                                             \n0                     Проф  Прочитай книгу Лема \"Голос Неба\", очень много ...  \n1   Могу скачать материалы                                                NaN  ",
      "text/html": "<div>\n<style scoped>\n    .dataframe tbody tr th:only-of-type {\n        vertical-align: middle;\n    }\n\n    .dataframe tbody tr th {\n        vertical-align: top;\n    }\n\n    .dataframe thead th {\n        text-align: right;\n    }\n</style>\n<table border=\"1\" class=\"dataframe\">\n  <thead>\n    <tr style=\"text-align: right;\">\n      <th></th>\n      <th>time</th>\n      <th>intro</th>\n      <th>jupyter</th>\n      <th>expect</th>\n      <th>sport</th>\n      <th>personal</th>\n      <th>math_level</th>\n      <th>quest1</th>\n      <th>quest2</th>\n      <th>quest3</th>\n      <th>fib_gen</th>\n      <th>python</th>\n      <th>github</th>\n      <th>movie</th>\n    </tr>\n    <tr>\n      <th>id</th>\n      <th></th>\n      <th></th>\n      <th></th>\n      <th></th>\n      <th></th>\n      <th></th>\n      <th></th>\n      <th></th>\n      <th></th>\n      <th></th>\n      <th></th>\n      <th></th>\n      <th></th>\n      <th></th>\n    </tr>\n  </thead>\n  <tbody>\n    <tr>\n      <th>0</th>\n      <td>2016/12/05 10:39:59 am GMT+3</td>\n      <td>крутой Developer</td>\n      <td>Да</td>\n      <td>Ребята, вижу ваш настрой, уверен курс будет ин...</td>\n      <td>Starcraft</td>\n      <td>Да</td>\n      <td>4</td>\n      <td>3</td>\n      <td>-12</td>\n      <td>2.0</td>\n      <td>Да</td>\n      <td>Да</td>\n      <td>Проф</td>\n      <td>Прочитай книгу Лема \"Голос Неба\", очень много ...</td>\n    </tr>\n    <tr>\n      <th>1</th>\n      <td>2016/12/05 10:44:27 am GMT+3</td>\n      <td>Разработчик Navision. Изучаю тему DS для возмо...</td>\n      <td>Да</td>\n      <td>Практики, подкрепленной теорией. Хочется упоря...</td>\n      <td>NaN</td>\n      <td>Да</td>\n      <td>1</td>\n      <td>3</td>\n      <td>NaN</td>\n      <td>2.0</td>\n      <td>Да, но фиговый.</td>\n      <td>Да</td>\n      <td>Могу скачать материалы</td>\n      <td>NaN</td>\n    </tr>\n  </tbody>\n</table>\n</div>"
     },
     "execution_count": 9,
     "metadata": {},
     "output_type": "execute_result"
    }
   ],
   "source": [
    "poll_data.head(2)"
   ]
  },
  {
   "cell_type": "code",
   "execution_count": 10,
   "metadata": {},
   "outputs": [
    {
     "data": {
      "text/plain": "Да                                                              2071\nНет                                                              766\nнемного                                                            7\nНемного                                                            3\nНемного,  недавно начал проходить курс от яндекса на курсоре       2\nName: jupyter, dtype: int64"
     },
     "execution_count": 10,
     "metadata": {},
     "output_type": "execute_result"
    }
   ],
   "source": [
    "poll_data[\"jupyter\"].value_counts().head()\n",
    "# Помимо ДА и НЕТ много альтернативных ответов. Нужно от них избавиться"
   ]
  },
  {
   "cell_type": "code",
   "execution_count": 11,
   "metadata": {},
   "outputs": [],
   "source": [
    "# Заменяем ДА на 1, НЕТ на 0, остальные пропускаем\n",
    "# С помощью fillna заменяем пропуски (Nan) на 2(двойки)\n",
    "jupyer_levels = poll_data[\"jupyter\"].map({\"Да\": 1, \"Нет\": 0}).fillna(2)"
   ]
  },
  {
   "cell_type": "code",
   "execution_count": 12,
   "metadata": {},
   "outputs": [
    {
     "data": {
      "text/plain": "id\n0    1.0\n1    1.0\n2    1.0\n3    1.0\n5    1.0\nName: jupyter, dtype: float64"
     },
     "execution_count": 12,
     "metadata": {},
     "output_type": "execute_result"
    }
   ],
   "source": [
    "jupyer_levels.head()"
   ]
  },
  {
   "cell_type": "code",
   "execution_count": 13,
   "outputs": [
    {
     "data": {
      "text/plain": "1.0    2071\n0.0     766\n2.0     107\nName: jupyter, dtype: int64"
     },
     "execution_count": 13,
     "metadata": {},
     "output_type": "execute_result"
    }
   ],
   "source": [
    "jupyer_levels.value_counts()"
   ],
   "metadata": {
    "collapsed": false,
    "pycharm": {
     "name": "#%%\n"
    }
   }
  },
  {
   "cell_type": "code",
   "execution_count": 14,
   "metadata": {},
   "outputs": [
    {
     "data": {
      "text/plain": "<Figure size 640x480 with 1 Axes>",
      "image/png": "[encoded data removed]"
     },
     "metadata": {},
     "output_type": "display_data"
    }
   ],
   "source": [
    "sns.countplot(x=jupyer_levels);\n",
    "# 0 - люди НЕ работали с jupiter, 1 - работали, 2 - пропуски"
   ]
  },
  {
   "cell_type": "code",
   "execution_count": 15,
   "metadata": {},
   "outputs": [
    {
     "data": {
      "text/plain": "Index(['time', 'intro', 'jupyter', 'expect', 'sport', 'personal', 'math_level',\n       'quest1', 'quest2', 'quest3', 'fib_gen', 'python', 'github', 'movie'],\n      dtype='object')"
     },
     "execution_count": 15,
     "metadata": {},
     "output_type": "execute_result"
    }
   ],
   "source": [
    "poll_data.columns"
   ]
  },
  {
   "cell_type": "code",
   "execution_count": 16,
   "metadata": {},
   "outputs": [
    {
     "data": {
      "text/plain": "Футбол       197\nфутбол       113\nБаскетбол    113\nПлавание      94\nХоккей        66\nName: sport, dtype: int64"
     },
     "execution_count": 16,
     "metadata": {},
     "output_type": "execute_result"
    }
   ],
   "source": [
    "poll_data.sport.value_counts().head()"
   ]
  },
  {
   "cell_type": "markdown",
   "metadata": {},
   "source": [
    "**Процент ответивших на 3 вопрос**"
   ]
  },
  {
   "cell_type": "code",
   "execution_count": 24,
   "outputs": [
    {
     "data": {
      "text/plain": "2519"
     },
     "execution_count": 24,
     "metadata": {},
     "output_type": "execute_result"
    }
   ],
   "source": [
    "# Количество правильных ответов на 3-ий вопрос\n",
    "(poll_data[\"quest3\"] == 2).dropna().sum()"
   ],
   "metadata": {
    "collapsed": false,
    "pycharm": {
     "name": "#%%\n"
    }
   }
  },
  {
   "cell_type": "code",
   "execution_count": 17,
   "metadata": {},
   "outputs": [
    {
     "data": {
      "text/plain": "0.9244036697247706"
     },
     "execution_count": 17,
     "metadata": {},
     "output_type": "execute_result"
    }
   ],
   "source": [
    "# Процент правильно ответивших на 3-ий вопрос\n",
    "(poll_data[\"quest3\"] == 2).dropna().sum() / poll_data[\"quest3\"][\n",
    "    ~poll_data[\"quest3\"].isnull()\n",
    "].shape[0]"
   ]
  },
  {
   "cell_type": "markdown",
   "metadata": {},
   "source": [
    "**Ищем топ-10 слов в представлении себя. При этом уберем стоп-слова**"
   ]
  },
  {
   "cell_type": "code",
   "execution_count": 18,
   "metadata": {},
   "outputs": [],
   "source": [
    "all_words = np.concatenate(poll_data[\"intro\"].apply(lambda s: s.strip().split()).values)"
   ]
  },
  {
   "cell_type": "code",
   "execution_count": 19,
   "metadata": {},
   "outputs": [
    {
     "data": {
      "text/plain": "26533"
     },
     "execution_count": 19,
     "metadata": {},
     "output_type": "execute_result"
    }
   ],
   "source": [
    "len(all_words)"
   ]
  },
  {
   "cell_type": "code",
   "execution_count": 20,
   "metadata": {},
   "outputs": [],
   "source": [
    "import nltk # библиотека natural language toolkit"
   ]
  },
  {
   "cell_type": "code",
   "execution_count": 21,
   "metadata": {},
   "outputs": [
    {
     "name": "stderr",
     "output_type": "stream",
     "text": [
      "[nltk_data] Downloading package stopwords to\n",
      "[nltk_data]     C:\\Users\\Zetis\\AppData\\Roaming\\nltk_data...\n",
      "[nltk_data]   Package stopwords is already up-to-date!\n"
     ]
    },
    {
     "data": {
      "text/plain": "True"
     },
     "execution_count": 21,
     "metadata": {},
     "output_type": "execute_result"
    }
   ],
   "source": [
    "nltk.download(\"stopwords\")"
   ]
  },
  {
   "cell_type": "code",
   "execution_count": 22,
   "metadata": {},
   "outputs": [
    {
     "data": {
      "text/plain": "['и', 'в', 'во', 'не', 'что', 'он', 'на', 'я', 'с', 'со']"
     },
     "execution_count": 22,
     "metadata": {},
     "output_type": "execute_result"
    }
   ],
   "source": [
    "# Стоп слова\n",
    "nltk.corpus.stopwords.words(\"russian\")[:10]"
   ]
  },
  {
   "cell_type": "code",
   "execution_count": 23,
   "metadata": {},
   "outputs": [
    {
     "data": {
      "text/plain": "Студент     279\nРаботаю     201\nкурса       187\nданных      178\nData        173\nЯ           166\nработаю     157\ndata        130\nмашинным    123\nML          122\ndtype: int64"
     },
     "execution_count": 23,
     "metadata": {},
     "output_type": "execute_result"
    }
   ],
   "source": [
    "# Исключаем стоп слова, что бы узнать топ 10 слов впредставлении себя\n",
    "words_series = pd.Series(list(all_words))\n",
    "words_series[\n",
    "    ~words_series.isin(nltk.corpus.stopwords.words(\"russian\"))\n",
    "].value_counts().head(10)"
   ]
  },
  {
   "cell_type": "code",
   "execution_count": 23,
   "metadata": {
    "pycharm": {
     "name": "#%%\n"
    }
   },
   "outputs": [],
   "source": []
  }
 ],
 "metadata": {
  "kernelspec": {
   "display_name": "Python 3 (ipykernel)",
   "language": "python",
   "name": "python3"
  },
  "language_info": {
   "codemirror_mode": {
    "name": "ipython",
    "version": 3
   },
   "file_extension": ".py",
   "mimetype": "text/x-python",
   "name": "python",
   "nbconvert_exporter": "python",
   "pygments_lexer": "ipython3",
   "version": "3.11.1"
  }
 },
 "nbformat": 4,
 "nbformat_minor": 2
}