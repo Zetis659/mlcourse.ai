{
 "cells": [
  {
   "cell_type": "code",
   "execution_count": 28,
   "metadata": {
    "collapsed": true
   },
   "outputs": [],
   "source": [
    "import pandas as pd\n",
    "import numpy as np"
   ]
  },
  {
   "cell_type": "code",
   "execution_count": 33,
   "outputs": [],
   "source": [
    "np.set_printoptions(precision=2)  # Ограничить числа до 2 знаков после запятой"
   ],
   "metadata": {
    "collapsed": false,
    "pycharm": {
     "name": "#%%\n"
    }
   }
  },
  {
   "cell_type": "code",
   "execution_count": 34,
   "outputs": [],
   "source": [
    "data = pd.read_csv('../data/beauty.csv', sep=';')  # Добавим разделитель"
   ],
   "metadata": {
    "collapsed": false,
    "pycharm": {
     "name": "#%%\n"
    }
   }
  },
  {
   "cell_type": "code",
   "source": [
    "type(data)"
   ],
   "metadata": {
    "collapsed": false,
    "pycharm": {
     "name": "#%%\n"
    }
   },
   "execution_count": 35,
   "outputs": [
    {
     "data": {
      "text/plain": "pandas.core.frame.DataFrame"
     },
     "execution_count": 35,
     "metadata": {},
     "output_type": "execute_result"
    }
   ]
  },
  {
   "cell_type": "code",
   "execution_count": 36,
   "outputs": [
    {
     "data": {
      "text/plain": "    wage  exper  union  goodhlth  black  female  married  service  educ  looks\n0   5.73     30      0         1      0       1        1        1    14      4\n1   4.28     28      0         1      0       1        1        0    12      3\n2   7.96     35      0         1      0       1        0        0    10      4\n3  11.57     38      0         1      0       0        1        1    16      3\n4  11.42     27      0         1      0       0        1        0    16      3",
      "text/html": "<div>\n<style scoped>\n    .dataframe tbody tr th:only-of-type {\n        vertical-align: middle;\n    }\n\n    .dataframe tbody tr th {\n        vertical-align: top;\n    }\n\n    .dataframe thead th {\n        text-align: right;\n    }\n</style>\n<table border=\"1\" class=\"dataframe\">\n  <thead>\n    <tr style=\"text-align: right;\">\n      <th></th>\n      <th>wage</th>\n      <th>exper</th>\n      <th>union</th>\n      <th>goodhlth</th>\n      <th>black</th>\n      <th>female</th>\n      <th>married</th>\n      <th>service</th>\n      <th>educ</th>\n      <th>looks</th>\n    </tr>\n  </thead>\n  <tbody>\n    <tr>\n      <th>0</th>\n      <td>5.73</td>\n      <td>30</td>\n      <td>0</td>\n      <td>1</td>\n      <td>0</td>\n      <td>1</td>\n      <td>1</td>\n      <td>1</td>\n      <td>14</td>\n      <td>4</td>\n    </tr>\n    <tr>\n      <th>1</th>\n      <td>4.28</td>\n      <td>28</td>\n      <td>0</td>\n      <td>1</td>\n      <td>0</td>\n      <td>1</td>\n      <td>1</td>\n      <td>0</td>\n      <td>12</td>\n      <td>3</td>\n    </tr>\n    <tr>\n      <th>2</th>\n      <td>7.96</td>\n      <td>35</td>\n      <td>0</td>\n      <td>1</td>\n      <td>0</td>\n      <td>1</td>\n      <td>0</td>\n      <td>0</td>\n      <td>10</td>\n      <td>4</td>\n    </tr>\n    <tr>\n      <th>3</th>\n      <td>11.57</td>\n      <td>38</td>\n      <td>0</td>\n      <td>1</td>\n      <td>0</td>\n      <td>0</td>\n      <td>1</td>\n      <td>1</td>\n      <td>16</td>\n      <td>3</td>\n    </tr>\n    <tr>\n      <th>4</th>\n      <td>11.42</td>\n      <td>27</td>\n      <td>0</td>\n      <td>1</td>\n      <td>0</td>\n      <td>0</td>\n      <td>1</td>\n      <td>0</td>\n      <td>16</td>\n      <td>3</td>\n    </tr>\n  </tbody>\n</table>\n</div>"
     },
     "execution_count": 36,
     "metadata": {},
     "output_type": "execute_result"
    }
   ],
   "source": [
    "data.head()"
   ],
   "metadata": {
    "collapsed": false,
    "pycharm": {
     "name": "#%%\n"
    }
   }
  },
  {
   "cell_type": "code",
   "execution_count": 37,
   "outputs": [
    {
     "data": {
      "text/plain": "(1260, 10)"
     },
     "execution_count": 37,
     "metadata": {},
     "output_type": "execute_result"
    }
   ],
   "source": [
    "data.shape  # Размероность данных, 1260 объектов и 10 признаков"
   ],
   "metadata": {
    "collapsed": false,
    "pycharm": {
     "name": "#%%\n"
    }
   }
  },
  {
   "cell_type": "code",
   "execution_count": 38,
   "outputs": [
    {
     "name": "stdout",
     "output_type": "stream",
     "text": [
      "<class 'pandas.core.frame.DataFrame'>\n",
      "RangeIndex: 1260 entries, 0 to 1259\n",
      "Data columns (total 10 columns):\n",
      " #   Column    Non-Null Count  Dtype  \n",
      "---  ------    --------------  -----  \n",
      " 0   wage      1260 non-null   float64\n",
      " 1   exper     1260 non-null   int64  \n",
      " 2   union     1260 non-null   int64  \n",
      " 3   goodhlth  1260 non-null   int64  \n",
      " 4   black     1260 non-null   int64  \n",
      " 5   female    1260 non-null   int64  \n",
      " 6   married   1260 non-null   int64  \n",
      " 7   service   1260 non-null   int64  \n",
      " 8   educ      1260 non-null   int64  \n",
      " 9   looks     1260 non-null   int64  \n",
      "dtypes: float64(1), int64(9)\n",
      "memory usage: 98.6 KB\n"
     ]
    }
   ],
   "source": [
    "data.info()  # Краткая статистка данных + проверка на пропуски"
   ],
   "metadata": {
    "collapsed": false,
    "pycharm": {
     "name": "#%%\n"
    }
   }
  },
  {
   "cell_type": "code",
   "execution_count": 39,
   "outputs": [
    {
     "data": {
      "text/plain": "              wage        exper        union     goodhlth        black  \\\ncount  1260.000000  1260.000000  1260.000000  1260.000000  1260.000000   \nmean      6.306690    18.206349     0.272222     0.933333     0.073810   \nstd       4.660639    11.963485     0.445280     0.249543     0.261564   \nmin       1.020000     0.000000     0.000000     0.000000     0.000000   \n25%       3.707500     8.000000     0.000000     1.000000     0.000000   \n50%       5.300000    15.000000     0.000000     1.000000     0.000000   \n75%       7.695000    27.000000     1.000000     1.000000     0.000000   \nmax      77.720000    48.000000     1.000000     1.000000     1.000000   \n\n            female      married      service         educ        looks  \ncount  1260.000000  1260.000000  1260.000000  1260.000000  1260.000000  \nmean      0.346032     0.691270     0.273810    12.563492     3.185714  \nstd       0.475892     0.462153     0.446089     2.624489     0.684877  \nmin       0.000000     0.000000     0.000000     5.000000     1.000000  \n25%       0.000000     0.000000     0.000000    12.000000     3.000000  \n50%       0.000000     1.000000     0.000000    12.000000     3.000000  \n75%       1.000000     1.000000     1.000000    13.000000     4.000000  \nmax       1.000000     1.000000     1.000000    17.000000     5.000000  ",
      "text/html": "<div>\n<style scoped>\n    .dataframe tbody tr th:only-of-type {\n        vertical-align: middle;\n    }\n\n    .dataframe tbody tr th {\n        vertical-align: top;\n    }\n\n    .dataframe thead th {\n        text-align: right;\n    }\n</style>\n<table border=\"1\" class=\"dataframe\">\n  <thead>\n    <tr style=\"text-align: right;\">\n      <th></th>\n      <th>wage</th>\n      <th>exper</th>\n      <th>union</th>\n      <th>goodhlth</th>\n      <th>black</th>\n      <th>female</th>\n      <th>married</th>\n      <th>service</th>\n      <th>educ</th>\n      <th>looks</th>\n    </tr>\n  </thead>\n  <tbody>\n    <tr>\n      <th>count</th>\n      <td>1260.000000</td>\n      <td>1260.000000</td>\n      <td>1260.000000</td>\n      <td>1260.000000</td>\n      <td>1260.000000</td>\n      <td>1260.000000</td>\n      <td>1260.000000</td>\n      <td>1260.000000</td>\n      <td>1260.000000</td>\n      <td>1260.000000</td>\n    </tr>\n    <tr>\n      <th>mean</th>\n      <td>6.306690</td>\n      <td>18.206349</td>\n      <td>0.272222</td>\n      <td>0.933333</td>\n      <td>0.073810</td>\n      <td>0.346032</td>\n      <td>0.691270</td>\n      <td>0.273810</td>\n      <td>12.563492</td>\n      <td>3.185714</td>\n    </tr>\n    <tr>\n      <th>std</th>\n      <td>4.660639</td>\n      <td>11.963485</td>\n      <td>0.445280</td>\n      <td>0.249543</td>\n      <td>0.261564</td>\n      <td>0.475892</td>\n      <td>0.462153</td>\n      <td>0.446089</td>\n      <td>2.624489</td>\n      <td>0.684877</td>\n    </tr>\n    <tr>\n      <th>min</th>\n      <td>1.020000</td>\n      <td>0.000000</td>\n      <td>0.000000</td>\n      <td>0.000000</td>\n      <td>0.000000</td>\n      <td>0.000000</td>\n      <td>0.000000</td>\n      <td>0.000000</td>\n      <td>5.000000</td>\n      <td>1.000000</td>\n    </tr>\n    <tr>\n      <th>25%</th>\n      <td>3.707500</td>\n      <td>8.000000</td>\n      <td>0.000000</td>\n      <td>1.000000</td>\n      <td>0.000000</td>\n      <td>0.000000</td>\n      <td>0.000000</td>\n      <td>0.000000</td>\n      <td>12.000000</td>\n      <td>3.000000</td>\n    </tr>\n    <tr>\n      <th>50%</th>\n      <td>5.300000</td>\n      <td>15.000000</td>\n      <td>0.000000</td>\n      <td>1.000000</td>\n      <td>0.000000</td>\n      <td>0.000000</td>\n      <td>1.000000</td>\n      <td>0.000000</td>\n      <td>12.000000</td>\n      <td>3.000000</td>\n    </tr>\n    <tr>\n      <th>75%</th>\n      <td>7.695000</td>\n      <td>27.000000</td>\n      <td>1.000000</td>\n      <td>1.000000</td>\n      <td>0.000000</td>\n      <td>1.000000</td>\n      <td>1.000000</td>\n      <td>1.000000</td>\n      <td>13.000000</td>\n      <td>4.000000</td>\n    </tr>\n    <tr>\n      <th>max</th>\n      <td>77.720000</td>\n      <td>48.000000</td>\n      <td>1.000000</td>\n      <td>1.000000</td>\n      <td>1.000000</td>\n      <td>1.000000</td>\n      <td>1.000000</td>\n      <td>1.000000</td>\n      <td>17.000000</td>\n      <td>5.000000</td>\n    </tr>\n  </tbody>\n</table>\n</div>"
     },
     "execution_count": 39,
     "metadata": {},
     "output_type": "execute_result"
    }
   ],
   "source": [
    "data.describe()  # Статистка данных: среднее, санд. откл, минимальное, квартили (3 точки, которые делят данные на 4 части), максимальное значение"
   ],
   "metadata": {
    "collapsed": false,
    "pycharm": {
     "name": "#%%\n"
    }
   }
  },
  {
   "cell_type": "code",
   "execution_count": 40,
   "outputs": [
    {
     "data": {
      "text/plain": "0       30\n1       28\n2       35\n3       38\n4       27\n        ..\n1255    25\n1256     4\n1257    35\n1258    15\n1259    24\nName: exper, Length: 1260, dtype: int64"
     },
     "execution_count": 40,
     "metadata": {},
     "output_type": "execute_result"
    }
   ],
   "source": [
    "data['exper']  # Series"
   ],
   "metadata": {
    "collapsed": false,
    "pycharm": {
     "name": "#%%\n"
    }
   }
  },
  {
   "cell_type": "markdown",
   "source": [
    "## loc и iloc"
   ],
   "metadata": {
    "collapsed": false,
    "pycharm": {
     "name": "#%% md\n"
    }
   }
  },
  {
   "cell_type": "code",
   "execution_count": 41,
   "outputs": [
    {
     "data": {
      "text/plain": "    wage  female\n0   5.73       1\n1   4.28       1\n2   7.96       1\n3  11.57       0\n4  11.42       0\n5   3.91       1",
      "text/html": "<div>\n<style scoped>\n    .dataframe tbody tr th:only-of-type {\n        vertical-align: middle;\n    }\n\n    .dataframe tbody tr th {\n        vertical-align: top;\n    }\n\n    .dataframe thead th {\n        text-align: right;\n    }\n</style>\n<table border=\"1\" class=\"dataframe\">\n  <thead>\n    <tr style=\"text-align: right;\">\n      <th></th>\n      <th>wage</th>\n      <th>female</th>\n    </tr>\n  </thead>\n  <tbody>\n    <tr>\n      <th>0</th>\n      <td>5.73</td>\n      <td>1</td>\n    </tr>\n    <tr>\n      <th>1</th>\n      <td>4.28</td>\n      <td>1</td>\n    </tr>\n    <tr>\n      <th>2</th>\n      <td>7.96</td>\n      <td>1</td>\n    </tr>\n    <tr>\n      <th>3</th>\n      <td>11.57</td>\n      <td>0</td>\n    </tr>\n    <tr>\n      <th>4</th>\n      <td>11.42</td>\n      <td>0</td>\n    </tr>\n    <tr>\n      <th>5</th>\n      <td>3.91</td>\n      <td>1</td>\n    </tr>\n  </tbody>\n</table>\n</div>"
     },
     "execution_count": 41,
     "metadata": {},
     "output_type": "execute_result"
    }
   ],
   "source": [
    "data.loc[0:5, ['wage', 'female']]  # Первые 5 строк"
   ],
   "metadata": {
    "collapsed": false,
    "pycharm": {
     "name": "#%%\n"
    }
   }
  },
  {
   "cell_type": "code",
   "execution_count": 42,
   "outputs": [
    {
     "data": {
      "text/plain": "      union  goodhlth\n0         0         1\n1         0         1\n2         0         1\n3         0         1\n4         0         1\n...     ...       ...\n1255      0         1\n1256      0         1\n1257      0         1\n1258      0         1\n1259      0         0\n\n[1260 rows x 2 columns]",
      "text/html": "<div>\n<style scoped>\n    .dataframe tbody tr th:only-of-type {\n        vertical-align: middle;\n    }\n\n    .dataframe tbody tr th {\n        vertical-align: top;\n    }\n\n    .dataframe thead th {\n        text-align: right;\n    }\n</style>\n<table border=\"1\" class=\"dataframe\">\n  <thead>\n    <tr style=\"text-align: right;\">\n      <th></th>\n      <th>union</th>\n      <th>goodhlth</th>\n    </tr>\n  </thead>\n  <tbody>\n    <tr>\n      <th>0</th>\n      <td>0</td>\n      <td>1</td>\n    </tr>\n    <tr>\n      <th>1</th>\n      <td>0</td>\n      <td>1</td>\n    </tr>\n    <tr>\n      <th>2</th>\n      <td>0</td>\n      <td>1</td>\n    </tr>\n    <tr>\n      <th>3</th>\n      <td>0</td>\n      <td>1</td>\n    </tr>\n    <tr>\n      <th>4</th>\n      <td>0</td>\n      <td>1</td>\n    </tr>\n    <tr>\n      <th>...</th>\n      <td>...</td>\n      <td>...</td>\n    </tr>\n    <tr>\n      <th>1255</th>\n      <td>0</td>\n      <td>1</td>\n    </tr>\n    <tr>\n      <th>1256</th>\n      <td>0</td>\n      <td>1</td>\n    </tr>\n    <tr>\n      <th>1257</th>\n      <td>0</td>\n      <td>1</td>\n    </tr>\n    <tr>\n      <th>1258</th>\n      <td>0</td>\n      <td>1</td>\n    </tr>\n    <tr>\n      <th>1259</th>\n      <td>0</td>\n      <td>0</td>\n    </tr>\n  </tbody>\n</table>\n<p>1260 rows × 2 columns</p>\n</div>"
     },
     "execution_count": 42,
     "metadata": {},
     "output_type": "execute_result"
    }
   ],
   "source": [
    "data.iloc[:, 2:4]"
   ],
   "metadata": {
    "collapsed": false,
    "pycharm": {
     "name": "#%%\n"
    }
   }
  },
  {
   "cell_type": "code",
   "execution_count": 43,
   "outputs": [
    {
     "data": {
      "text/plain": "0        True\n1        True\n2        True\n3       False\n4       False\n        ...  \n1255     True\n1256     True\n1257     True\n1258     True\n1259     True\nName: female, Length: 1260, dtype: bool"
     },
     "execution_count": 43,
     "metadata": {},
     "output_type": "execute_result"
    }
   ],
   "source": [
    "data['female'] == 1  # Женщины - True"
   ],
   "metadata": {
    "collapsed": false,
    "pycharm": {
     "name": "#%%\n"
    }
   }
  },
  {
   "cell_type": "code",
   "execution_count": 44,
   "outputs": [
    {
     "data": {
      "text/plain": "      wage  exper  union  goodhlth  black  female  married  service  educ  \\\n0     5.73     30      0         1      0       1        1        1    14   \n1     4.28     28      0         1      0       1        1        0    12   \n2     7.96     35      0         1      0       1        0        0    10   \n5     3.91     20      0         0      0       1        1        0    12   \n8     5.00      5      0         1      0       1        0        0    16   \n...    ...    ...    ...       ...    ...     ...      ...      ...   ...   \n1255  1.61     25      0         1      1       1        0        1    12   \n1256  1.68      4      0         1      0       1        1        1    12   \n1257  3.29     35      0         1      1       1        0        1    12   \n1258  2.31     15      0         1      1       1        1        1    10   \n1259  1.92     24      0         0      0       1        0        1    16   \n\n      looks  \n0         4  \n1         3  \n2         4  \n5         3  \n8         3  \n...     ...  \n1255      3  \n1256      2  \n1257      3  \n1258      3  \n1259      3  \n\n[436 rows x 10 columns]",
      "text/html": "<div>\n<style scoped>\n    .dataframe tbody tr th:only-of-type {\n        vertical-align: middle;\n    }\n\n    .dataframe tbody tr th {\n        vertical-align: top;\n    }\n\n    .dataframe thead th {\n        text-align: right;\n    }\n</style>\n<table border=\"1\" class=\"dataframe\">\n  <thead>\n    <tr style=\"text-align: right;\">\n      <th></th>\n      <th>wage</th>\n      <th>exper</th>\n      <th>union</th>\n      <th>goodhlth</th>\n      <th>black</th>\n      <th>female</th>\n      <th>married</th>\n      <th>service</th>\n      <th>educ</th>\n      <th>looks</th>\n    </tr>\n  </thead>\n  <tbody>\n    <tr>\n      <th>0</th>\n      <td>5.73</td>\n      <td>30</td>\n      <td>0</td>\n      <td>1</td>\n      <td>0</td>\n      <td>1</td>\n      <td>1</td>\n      <td>1</td>\n      <td>14</td>\n      <td>4</td>\n    </tr>\n    <tr>\n      <th>1</th>\n      <td>4.28</td>\n      <td>28</td>\n      <td>0</td>\n      <td>1</td>\n      <td>0</td>\n      <td>1</td>\n      <td>1</td>\n      <td>0</td>\n      <td>12</td>\n      <td>3</td>\n    </tr>\n    <tr>\n      <th>2</th>\n      <td>7.96</td>\n      <td>35</td>\n      <td>0</td>\n      <td>1</td>\n      <td>0</td>\n      <td>1</td>\n      <td>0</td>\n      <td>0</td>\n      <td>10</td>\n      <td>4</td>\n    </tr>\n    <tr>\n      <th>5</th>\n      <td>3.91</td>\n      <td>20</td>\n      <td>0</td>\n      <td>0</td>\n      <td>0</td>\n      <td>1</td>\n      <td>1</td>\n      <td>0</td>\n      <td>12</td>\n      <td>3</td>\n    </tr>\n    <tr>\n      <th>8</th>\n      <td>5.00</td>\n      <td>5</td>\n      <td>0</td>\n      <td>1</td>\n      <td>0</td>\n      <td>1</td>\n      <td>0</td>\n      <td>0</td>\n      <td>16</td>\n      <td>3</td>\n    </tr>\n    <tr>\n      <th>...</th>\n      <td>...</td>\n      <td>...</td>\n      <td>...</td>\n      <td>...</td>\n      <td>...</td>\n      <td>...</td>\n      <td>...</td>\n      <td>...</td>\n      <td>...</td>\n      <td>...</td>\n    </tr>\n    <tr>\n      <th>1255</th>\n      <td>1.61</td>\n      <td>25</td>\n      <td>0</td>\n      <td>1</td>\n      <td>1</td>\n      <td>1</td>\n      <td>0</td>\n      <td>1</td>\n      <td>12</td>\n      <td>3</td>\n    </tr>\n    <tr>\n      <th>1256</th>\n      <td>1.68</td>\n      <td>4</td>\n      <td>0</td>\n      <td>1</td>\n      <td>0</td>\n      <td>1</td>\n      <td>1</td>\n      <td>1</td>\n      <td>12</td>\n      <td>2</td>\n    </tr>\n    <tr>\n      <th>1257</th>\n      <td>3.29</td>\n      <td>35</td>\n      <td>0</td>\n      <td>1</td>\n      <td>1</td>\n      <td>1</td>\n      <td>0</td>\n      <td>1</td>\n      <td>12</td>\n      <td>3</td>\n    </tr>\n    <tr>\n      <th>1258</th>\n      <td>2.31</td>\n      <td>15</td>\n      <td>0</td>\n      <td>1</td>\n      <td>1</td>\n      <td>1</td>\n      <td>1</td>\n      <td>1</td>\n      <td>10</td>\n      <td>3</td>\n    </tr>\n    <tr>\n      <th>1259</th>\n      <td>1.92</td>\n      <td>24</td>\n      <td>0</td>\n      <td>0</td>\n      <td>0</td>\n      <td>1</td>\n      <td>0</td>\n      <td>1</td>\n      <td>16</td>\n      <td>3</td>\n    </tr>\n  </tbody>\n</table>\n<p>436 rows × 10 columns</p>\n</div>"
     },
     "execution_count": 44,
     "metadata": {},
     "output_type": "execute_result"
    }
   ],
   "source": [
    "data[data['female'] == 1]  # Только женщины"
   ],
   "metadata": {
    "collapsed": false,
    "pycharm": {
     "name": "#%%\n"
    }
   }
  },
  {
   "cell_type": "code",
   "execution_count": 45,
   "outputs": [
    {
     "data": {
      "text/plain": "0       5.73\n1       4.28\n2       7.96\n5       3.91\n8       5.00\n        ... \n1255    1.61\n1256    1.68\n1257    3.29\n1258    2.31\n1259    1.92\nName: wage, Length: 436, dtype: float64"
     },
     "execution_count": 45,
     "metadata": {},
     "output_type": "execute_result"
    }
   ],
   "source": [
    "data[data['female'] == 1]['wage']  # Доход женщин"
   ],
   "metadata": {
    "collapsed": false,
    "pycharm": {
     "name": "#%%\n"
    }
   }
  },
  {
   "cell_type": "code",
   "execution_count": 46,
   "outputs": [
    {
     "data": {
      "text/plain": "4.299357798165137"
     },
     "execution_count": 46,
     "metadata": {},
     "output_type": "execute_result"
    }
   ],
   "source": [
    "data[data['female'] == 1]['wage'].mean()  # Средний доход женщин"
   ],
   "metadata": {
    "collapsed": false,
    "pycharm": {
     "name": "#%%\n"
    }
   }
  },
  {
   "cell_type": "code",
   "execution_count": 47,
   "outputs": [
    {
     "data": {
      "text/plain": "(6.710000000000001, 5.0649999999999995)"
     },
     "execution_count": 47,
     "metadata": {},
     "output_type": "execute_result"
    }
   ],
   "source": [
    "# Медианный доход женатого мужчины\n",
    "data[(data['female'] == 0) & (data['married'] == 1)]['wage'].median(), \\\n",
    "data[(data['female'] == 0) & (data['married'] == 0)]['wage'].median() # Медианный доход НЕ женатого мужчины"
   ],
   "metadata": {
    "collapsed": false,
    "pycharm": {
     "name": "#%%\n"
    }
   }
  },
  {
   "cell_type": "code",
   "execution_count": 53,
   "outputs": [
    {
     "name": "stdout",
     "output_type": "stream",
     "text": [
      "1\n",
      "0.38461538461538464\n",
      "2\n",
      "0.38028169014084506\n",
      "3\n",
      "0.32271468144044324\n",
      "4\n",
      "0.37362637362637363\n",
      "5\n",
      "0.42105263157894735\n"
     ]
    }
   ],
   "source": [
    "for look, sub_df in data.groupby('looks'):\n",
    "    print(look)\n",
    "\n",
    "    print(sub_df['female'].mean())"
   ],
   "metadata": {
    "collapsed": false,
    "pycharm": {
     "name": "#%%\n"
    }
   }
  },
  {
   "cell_type": "code",
   "execution_count": 58,
   "outputs": [
    {
     "data": {
      "text/plain": "        wage  exper\nlooks              \n1      3.460   32.0\n2      4.595   18.0\n3      5.635   18.0\n4      5.240   12.5\n5      4.810    8.0",
      "text/html": "<div>\n<style scoped>\n    .dataframe tbody tr th:only-of-type {\n        vertical-align: middle;\n    }\n\n    .dataframe tbody tr th {\n        vertical-align: top;\n    }\n\n    .dataframe thead th {\n        text-align: right;\n    }\n</style>\n<table border=\"1\" class=\"dataframe\">\n  <thead>\n    <tr style=\"text-align: right;\">\n      <th></th>\n      <th>wage</th>\n      <th>exper</th>\n    </tr>\n    <tr>\n      <th>looks</th>\n      <th></th>\n      <th></th>\n    </tr>\n  </thead>\n  <tbody>\n    <tr>\n      <th>1</th>\n      <td>3.460</td>\n      <td>32.0</td>\n    </tr>\n    <tr>\n      <th>2</th>\n      <td>4.595</td>\n      <td>18.0</td>\n    </tr>\n    <tr>\n      <th>3</th>\n      <td>5.635</td>\n      <td>18.0</td>\n    </tr>\n    <tr>\n      <th>4</th>\n      <td>5.240</td>\n      <td>12.5</td>\n    </tr>\n    <tr>\n      <th>5</th>\n      <td>4.810</td>\n      <td>8.0</td>\n    </tr>\n  </tbody>\n</table>\n</div>"
     },
     "execution_count": 58,
     "metadata": {},
     "output_type": "execute_result"
    }
   ],
   "source": [
    "data.groupby('looks')[['wage', 'exper']].agg(np.median)"
   ],
   "metadata": {
    "collapsed": false,
    "pycharm": {
     "name": "#%%\n"
    }
   }
  },
  {
   "cell_type": "code",
   "execution_count": 57,
   "outputs": [
    {
     "data": {
      "text/plain": "        wage  exper\nlooks              \n1      3.460   32.0\n2      4.595   18.0\n3      5.635   18.0\n4      5.240   12.5\n5      4.810    8.0",
      "text/html": "<div>\n<style scoped>\n    .dataframe tbody tr th:only-of-type {\n        vertical-align: middle;\n    }\n\n    .dataframe tbody tr th {\n        vertical-align: top;\n    }\n\n    .dataframe thead th {\n        text-align: right;\n    }\n</style>\n<table border=\"1\" class=\"dataframe\">\n  <thead>\n    <tr style=\"text-align: right;\">\n      <th></th>\n      <th>wage</th>\n      <th>exper</th>\n    </tr>\n    <tr>\n      <th>looks</th>\n      <th></th>\n      <th></th>\n    </tr>\n  </thead>\n  <tbody>\n    <tr>\n      <th>1</th>\n      <td>3.460</td>\n      <td>32.0</td>\n    </tr>\n    <tr>\n      <th>2</th>\n      <td>4.595</td>\n      <td>18.0</td>\n    </tr>\n    <tr>\n      <th>3</th>\n      <td>5.635</td>\n      <td>18.0</td>\n    </tr>\n    <tr>\n      <th>4</th>\n      <td>5.240</td>\n      <td>12.5</td>\n    </tr>\n    <tr>\n      <th>5</th>\n      <td>4.810</td>\n      <td>8.0</td>\n    </tr>\n  </tbody>\n</table>\n</div>"
     },
     "execution_count": 57,
     "metadata": {},
     "output_type": "execute_result"
    }
   ],
   "source": [
    "data.groupby('looks')[['wage', 'exper']].median()"
   ],
   "metadata": {
    "collapsed": false,
    "pycharm": {
     "name": "#%%\n"
    }
   }
  },
  {
   "cell_type": "code",
   "execution_count": null,
   "outputs": [],
   "source": [],
   "metadata": {
    "collapsed": false,
    "pycharm": {
     "name": "#%%\n"
    }
   }
  }
 ],
 "metadata": {
  "kernelspec": {
   "display_name": "Python 3",
   "language": "python",
   "name": "python3"
  },
  "language_info": {
   "codemirror_mode": {
    "name": "ipython",
    "version": 2
   },
   "file_extension": ".py",
   "mimetype": "text/x-python",
   "name": "python",
   "nbconvert_exporter": "python",
   "pygments_lexer": "ipython2",
   "version": "2.7.6"
  }
 },
 "nbformat": 4,
 "nbformat_minor": 0
}